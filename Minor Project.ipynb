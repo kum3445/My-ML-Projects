{
 "cells": [
  {
   "cell_type": "markdown",
   "id": "6e30843d",
   "metadata": {},
   "source": [
    "# Data Normalization And Standardization"
   ]
  },
  {
   "cell_type": "code",
   "execution_count": 1,
   "id": "272d4186",
   "metadata": {},
   "outputs": [],
   "source": [
    "#import the necessary libraries\n",
    "import pandas as pd\n",
    "import numpy as np\n",
    "from sklearn.impute import SimpleImputer\n",
    "from sklearn.preprocessing import StandardScaler,MinMaxScaler"
   ]
  },
  {
   "cell_type": "code",
   "execution_count": 2,
   "id": "0fcee459",
   "metadata": {},
   "outputs": [],
   "source": [
    "#load the data into a DataFrame by reading the dataset.csv file\n",
    "dataframe=pd.read_csv(\"dataset.csv\")"
   ]
  },
  {
   "cell_type": "code",
   "execution_count": 3,
   "id": "f9d2befc",
   "metadata": {},
   "outputs": [
    {
     "name": "stdout",
     "output_type": "stream",
     "text": [
      "     CUST_ID      BALANCE  BALANCE_FREQUENCY  PURCHASES  ONEOFF_PURCHASES  \\\n",
      "0     C10001    40.900749           0.818182      95.40              0.00   \n",
      "1     C10002  3202.467416           0.909091       0.00              0.00   \n",
      "2     C10003  2495.148862           1.000000     773.17            773.17   \n",
      "3     C10004  1666.670542           0.636364    1499.00           1499.00   \n",
      "4     C10005   817.714335           1.000000      16.00             16.00   \n",
      "...      ...          ...                ...        ...               ...   \n",
      "8945  C19186    28.493517           1.000000     291.12              0.00   \n",
      "8946  C19187    19.183215           1.000000     300.00              0.00   \n",
      "8947  C19188    23.398673           0.833333     144.40              0.00   \n",
      "8948  C19189    13.457564           0.833333       0.00              0.00   \n",
      "8949  C19190   372.708075           0.666667    1093.25           1093.25   \n",
      "\n",
      "      INSTALLMENTS_PURCHASES  CASH_ADVANCE  PURCHASES_FREQUENCY  \\\n",
      "0                      95.40      0.000000             0.166667   \n",
      "1                       0.00   6442.945483             0.000000   \n",
      "2                       0.00      0.000000             1.000000   \n",
      "3                       0.00    205.788017             0.083333   \n",
      "4                       0.00      0.000000             0.083333   \n",
      "...                      ...           ...                  ...   \n",
      "8945                  291.12      0.000000             1.000000   \n",
      "8946                  300.00      0.000000             1.000000   \n",
      "8947                  144.40      0.000000             0.833333   \n",
      "8948                    0.00     36.558778             0.000000   \n",
      "8949                    0.00    127.040008             0.666667   \n",
      "\n",
      "      ONEOFF_PURCHASES_FREQUENCY  PURCHASES_INSTALLMENTS_FREQUENCY  \\\n",
      "0                       0.000000                          0.083333   \n",
      "1                       0.000000                          0.000000   \n",
      "2                       1.000000                          0.000000   \n",
      "3                       0.083333                          0.000000   \n",
      "4                       0.083333                          0.000000   \n",
      "...                          ...                               ...   \n",
      "8945                    0.000000                          0.833333   \n",
      "8946                    0.000000                          0.833333   \n",
      "8947                    0.000000                          0.666667   \n",
      "8948                    0.000000                          0.000000   \n",
      "8949                    0.666667                          0.000000   \n",
      "\n",
      "      CASH_ADVANCE_FREQUENCY  CASH_ADVANCE_TRX  PURCHASES_TRX  CREDIT_LIMIT  \\\n",
      "0                   0.000000                 0              2        1000.0   \n",
      "1                   0.250000                 4              0        7000.0   \n",
      "2                   0.000000                 0             12        7500.0   \n",
      "3                   0.083333                 1              1        7500.0   \n",
      "4                   0.000000                 0              1        1200.0   \n",
      "...                      ...               ...            ...           ...   \n",
      "8945                0.000000                 0              6        1000.0   \n",
      "8946                0.000000                 0              6        1000.0   \n",
      "8947                0.000000                 0              5        1000.0   \n",
      "8948                0.166667                 2              0         500.0   \n",
      "8949                0.333333                 2             23        1200.0   \n",
      "\n",
      "         PAYMENTS  MINIMUM_PAYMENTS  PRC_FULL_PAYMENT  TENURE  \n",
      "0      201.802084        139.509787          0.000000      12  \n",
      "1     4103.032597       1072.340217          0.222222      12  \n",
      "2      622.066742        627.284787          0.000000      12  \n",
      "3        0.000000               NaN          0.000000      12  \n",
      "4      678.334763        244.791237          0.000000      12  \n",
      "...           ...               ...               ...     ...  \n",
      "8945   325.594462         48.886365          0.500000       6  \n",
      "8946   275.861322               NaN          0.000000       6  \n",
      "8947    81.270775         82.418369          0.250000       6  \n",
      "8948    52.549959         55.755628          0.250000       6  \n",
      "8949    63.165404         88.288956          0.000000       6  \n",
      "\n",
      "[8950 rows x 18 columns]\n"
     ]
    }
   ],
   "source": [
    "#now print the data to check how it looks\n",
    "print(dataframe)"
   ]
  },
  {
   "cell_type": "code",
   "execution_count": 4,
   "id": "fddbea82",
   "metadata": {},
   "outputs": [
    {
     "name": "stdout",
     "output_type": "stream",
     "text": [
      "CUST_ID                               0\n",
      "BALANCE                               0\n",
      "BALANCE_FREQUENCY                     0\n",
      "PURCHASES                             0\n",
      "ONEOFF_PURCHASES                      0\n",
      "INSTALLMENTS_PURCHASES                0\n",
      "CASH_ADVANCE                          0\n",
      "PURCHASES_FREQUENCY                   0\n",
      "ONEOFF_PURCHASES_FREQUENCY            0\n",
      "PURCHASES_INSTALLMENTS_FREQUENCY      0\n",
      "CASH_ADVANCE_FREQUENCY                0\n",
      "CASH_ADVANCE_TRX                      0\n",
      "PURCHASES_TRX                         0\n",
      "CREDIT_LIMIT                          1\n",
      "PAYMENTS                              0\n",
      "MINIMUM_PAYMENTS                    313\n",
      "PRC_FULL_PAYMENT                      0\n",
      "TENURE                                0\n",
      "dtype: int64\n"
     ]
    }
   ],
   "source": [
    "#check if any NULL values are present in given data\n",
    "print(dataframe.isnull().sum()) "
   ]
  },
  {
   "cell_type": "code",
   "execution_count": 5,
   "id": "18373bb7",
   "metadata": {},
   "outputs": [],
   "source": [
    "#handling NULL values\n",
    "imputer=SimpleImputer(missing_values=np.nan, strategy=\"mean\") # filling the NAN values with mean of the elements of the column\n",
    "imputer.fit(dataframe.iloc[:,1:]) # fitting the size of the imputer \n",
    "dataframe.iloc[:,1:]=imputer.transform(dataframe.iloc[:,1:]) # transforming the NAN values and updating the dataframe"
   ]
  },
  {
   "cell_type": "code",
   "execution_count": 6,
   "id": "515a2e77",
   "metadata": {},
   "outputs": [
    {
     "name": "stdout",
     "output_type": "stream",
     "text": [
      "     CUST_ID      BALANCE  BALANCE_FREQUENCY  PURCHASES  ONEOFF_PURCHASES  \\\n",
      "0     C10001    40.900749           0.818182      95.40              0.00   \n",
      "1     C10002  3202.467416           0.909091       0.00              0.00   \n",
      "2     C10003  2495.148862           1.000000     773.17            773.17   \n",
      "3     C10004  1666.670542           0.636364    1499.00           1499.00   \n",
      "4     C10005   817.714335           1.000000      16.00             16.00   \n",
      "...      ...          ...                ...        ...               ...   \n",
      "8945  C19186    28.493517           1.000000     291.12              0.00   \n",
      "8946  C19187    19.183215           1.000000     300.00              0.00   \n",
      "8947  C19188    23.398673           0.833333     144.40              0.00   \n",
      "8948  C19189    13.457564           0.833333       0.00              0.00   \n",
      "8949  C19190   372.708075           0.666667    1093.25           1093.25   \n",
      "\n",
      "      INSTALLMENTS_PURCHASES  CASH_ADVANCE  PURCHASES_FREQUENCY  \\\n",
      "0                      95.40      0.000000             0.166667   \n",
      "1                       0.00   6442.945483             0.000000   \n",
      "2                       0.00      0.000000             1.000000   \n",
      "3                       0.00    205.788017             0.083333   \n",
      "4                       0.00      0.000000             0.083333   \n",
      "...                      ...           ...                  ...   \n",
      "8945                  291.12      0.000000             1.000000   \n",
      "8946                  300.00      0.000000             1.000000   \n",
      "8947                  144.40      0.000000             0.833333   \n",
      "8948                    0.00     36.558778             0.000000   \n",
      "8949                    0.00    127.040008             0.666667   \n",
      "\n",
      "      ONEOFF_PURCHASES_FREQUENCY  PURCHASES_INSTALLMENTS_FREQUENCY  \\\n",
      "0                       0.000000                          0.083333   \n",
      "1                       0.000000                          0.000000   \n",
      "2                       1.000000                          0.000000   \n",
      "3                       0.083333                          0.000000   \n",
      "4                       0.083333                          0.000000   \n",
      "...                          ...                               ...   \n",
      "8945                    0.000000                          0.833333   \n",
      "8946                    0.000000                          0.833333   \n",
      "8947                    0.000000                          0.666667   \n",
      "8948                    0.000000                          0.000000   \n",
      "8949                    0.666667                          0.000000   \n",
      "\n",
      "      CASH_ADVANCE_FREQUENCY  CASH_ADVANCE_TRX  PURCHASES_TRX  CREDIT_LIMIT  \\\n",
      "0                   0.000000               0.0            2.0        1000.0   \n",
      "1                   0.250000               4.0            0.0        7000.0   \n",
      "2                   0.000000               0.0           12.0        7500.0   \n",
      "3                   0.083333               1.0            1.0        7500.0   \n",
      "4                   0.000000               0.0            1.0        1200.0   \n",
      "...                      ...               ...            ...           ...   \n",
      "8945                0.000000               0.0            6.0        1000.0   \n",
      "8946                0.000000               0.0            6.0        1000.0   \n",
      "8947                0.000000               0.0            5.0        1000.0   \n",
      "8948                0.166667               2.0            0.0         500.0   \n",
      "8949                0.333333               2.0           23.0        1200.0   \n",
      "\n",
      "         PAYMENTS  MINIMUM_PAYMENTS  PRC_FULL_PAYMENT  TENURE  \n",
      "0      201.802084        139.509787          0.000000    12.0  \n",
      "1     4103.032597       1072.340217          0.222222    12.0  \n",
      "2      622.066742        627.284787          0.000000    12.0  \n",
      "3        0.000000        864.206542          0.000000    12.0  \n",
      "4      678.334763        244.791237          0.000000    12.0  \n",
      "...           ...               ...               ...     ...  \n",
      "8945   325.594462         48.886365          0.500000     6.0  \n",
      "8946   275.861322        864.206542          0.000000     6.0  \n",
      "8947    81.270775         82.418369          0.250000     6.0  \n",
      "8948    52.549959         55.755628          0.250000     6.0  \n",
      "8949    63.165404         88.288956          0.000000     6.0  \n",
      "\n",
      "[8950 rows x 18 columns]\n"
     ]
    }
   ],
   "source": [
    "#now print the data \n",
    "print(dataframe)"
   ]
  },
  {
   "cell_type": "code",
   "execution_count": 7,
   "id": "b5429509",
   "metadata": {},
   "outputs": [
    {
     "name": "stdout",
     "output_type": "stream",
     "text": [
      "Empty DataFrame\n",
      "Columns: [CUST_ID, BALANCE, BALANCE_FREQUENCY, PURCHASES, ONEOFF_PURCHASES, INSTALLMENTS_PURCHASES, CASH_ADVANCE, PURCHASES_FREQUENCY, ONEOFF_PURCHASES_FREQUENCY, PURCHASES_INSTALLMENTS_FREQUENCY, CASH_ADVANCE_FREQUENCY, CASH_ADVANCE_TRX, PURCHASES_TRX, CREDIT_LIMIT, PAYMENTS, MINIMUM_PAYMENTS, PRC_FULL_PAYMENT, TENURE]\n",
      "Index: []\n"
     ]
    }
   ],
   "source": [
    "#check if any duplicate rows are present in the dataframe\n",
    "duplicates=dataframe[dataframe.duplicated()]\n",
    "print(duplicates)\n"
   ]
  },
  {
   "cell_type": "code",
   "execution_count": 8,
   "id": "5070095e",
   "metadata": {},
   "outputs": [],
   "source": [
    "#as the given dataframe is not containing any duplicates go for feature scaling\n",
    "#Feature scaling ,scaling the above numeric data columns using Standardization and Normalization\n",
    "#Standardization\n",
    "df=dataframe.iloc[:,1:] # loading the Numeric data columns into df\n",
    "stdscale=StandardScaler() # taking the instance of StandardScaler\n",
    "stddata=stdscale.fit_transform(df) #fitting the transformed standard data"
   ]
  },
  {
   "cell_type": "code",
   "execution_count": 9,
   "id": "4ea64180",
   "metadata": {},
   "outputs": [
    {
     "name": "stdout",
     "output_type": "stream",
     "text": [
      "Standardized Data\n",
      "\n",
      "\n",
      "[[-0.73198937 -0.24943448 -0.42489974 ... -0.31096755 -0.52555097\n",
      "   0.36067954]\n",
      " [ 0.78696085  0.13432467 -0.46955188 ...  0.08931021  0.2342269\n",
      "   0.36067954]\n",
      " [ 0.44713513  0.51808382 -0.10766823 ... -0.10166318 -0.52555097\n",
      "   0.36067954]\n",
      " ...\n",
      " [-0.7403981  -0.18547673 -0.40196519 ... -0.33546549  0.32919999\n",
      "  -4.12276757]\n",
      " [-0.74517423 -0.18547673 -0.46955188 ... -0.34690648  0.32919999\n",
      "  -4.12276757]\n",
      " [-0.57257511 -0.88903307  0.04214581 ... -0.33294642 -0.52555097\n",
      "  -4.12276757]]\n"
     ]
    }
   ],
   "source": [
    "#print the Standardized Data\n",
    "print('Standardized Data')\n",
    "print('\\n')\n",
    "print(stddata)"
   ]
  },
  {
   "cell_type": "code",
   "execution_count": 10,
   "id": "97c6e285",
   "metadata": {},
   "outputs": [],
   "source": [
    "#Normalization\n",
    "df=dataframe.iloc[:,1:] # loading the Numeric data columns into df\n",
    "normscale=MinMaxScaler() # taking the instance of MinMaxScaler\n",
    "normdata=normscale.fit_transform(df) #fitting the transformed normalized data"
   ]
  },
  {
   "cell_type": "code",
   "execution_count": 11,
   "id": "73694574",
   "metadata": {},
   "outputs": [
    {
     "name": "stdout",
     "output_type": "stream",
     "text": [
      "Normalized Data\n",
      "\n",
      "\n",
      "[[2.14779454e-03 8.18182000e-01 1.94536779e-03 ... 1.82564563e-03\n",
      "  0.00000000e+00 1.00000000e+00]\n",
      " [1.68169097e-01 9.09091000e-01 0.00000000e+00 ... 1.40344791e-02\n",
      "  2.22222000e-01 1.00000000e+00]\n",
      " [1.31026136e-01 1.00000000e+00 1.57662475e-02 ... 8.20961806e-03\n",
      "  0.00000000e+00 1.00000000e+00]\n",
      " ...\n",
      " [1.22871936e-03 8.33333000e-01 2.94456089e-03 ... 1.07843629e-03\n",
      "  2.50000000e-01 0.00000000e+00]\n",
      " [7.06688341e-04 8.33333000e-01 0.00000000e+00 ... 7.29475795e-04\n",
      "  2.50000000e-01 0.00000000e+00]\n",
      " [1.95717777e-02 6.66667000e-01 2.22932216e-02 ... 1.15527021e-03\n",
      "  0.00000000e+00 0.00000000e+00]]\n"
     ]
    }
   ],
   "source": [
    "#print the Normalized Data\n",
    "print(\"Normalized Data\")\n",
    "print('\\n')\n",
    "print(normdata)"
   ]
  }
 ],
 "metadata": {
  "kernelspec": {
   "display_name": "Python 3",
   "language": "python",
   "name": "python3"
  },
  "language_info": {
   "codemirror_mode": {
    "name": "ipython",
    "version": 3
   },
   "file_extension": ".py",
   "mimetype": "text/x-python",
   "name": "python",
   "nbconvert_exporter": "python",
   "pygments_lexer": "ipython3",
   "version": "3.8.8"
  }
 },
 "nbformat": 4,
 "nbformat_minor": 5
}
